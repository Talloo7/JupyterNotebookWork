{
 "cells": [
  {
   "cell_type": "markdown",
   "id": "d59aaf72",
   "metadata": {},
   "source": [
    "# Data Science Tools and Ecosystems"
   ]
  },
  {
   "cell_type": "markdown",
   "id": "7a07f7e4",
   "metadata": {},
   "source": [
    "In this notebook, Data Science Tools and Ecosystems are summarized"
   ]
  },
  {
   "cell_type": "markdown",
   "id": "63641790",
   "metadata": {},
   "source": [
    "The objectives covered in this book are: \n",
    "1) Creation of Markdown Cells \n",
    "2) Listing Popular Data Science Languages\n",
    "3) Listing some commonly used Data Science Libraries\n",
    "4) Creation of table containing Data Science Tools \n",
    "5) Evaluation of Arithmetic Expressions"
   ]
  },
  {
   "cell_type": "markdown",
   "id": "4d1cd9e2",
   "metadata": {},
   "source": [
    "Some of the popular languages that Data Scientists use are:\n",
    "1) Python\n",
    "2) R\n",
    "3) SQL"
   ]
  },
  {
   "cell_type": "markdown",
   "id": "6558c695",
   "metadata": {},
   "source": [
    "Some of the popular Data Science libraries are: \n",
    "1) Tensorflow\n",
    "2) Numpy\n",
    "3) Pandas"
   ]
  },
  {
   "cell_type": "markdown",
   "id": "7c590943",
   "metadata": {},
   "source": [
    "|Data Science Tools|\n",
    "|:----------------:|\n",
    "|RStudio           |\n",
    "|Apache Spark      |\n",
    "|TensorFlow        |"
   ]
  },
  {
   "cell_type": "markdown",
   "id": "cb7e3400",
   "metadata": {},
   "source": [
    "### Below are a few examples of evaluating arithmetic expressions in Python:"
   ]
  },
  {
   "cell_type": "markdown",
   "id": "76a73a79",
   "metadata": {},
   "source": [
    "This a simple arithmetic expression to mutiply then add integers."
   ]
  },
  {
   "cell_type": "code",
   "execution_count": 4,
   "id": "e133f440",
   "metadata": {},
   "outputs": [
    {
     "data": {
      "text/plain": [
       "17"
      ]
     },
     "execution_count": 4,
     "metadata": {},
     "output_type": "execute_result"
    }
   ],
   "source": [
    "(3*4)+5"
   ]
  },
  {
   "cell_type": "markdown",
   "id": "36272b23",
   "metadata": {},
   "source": [
    "This will convert 200 minutes to hours by diving by 60."
   ]
  },
  {
   "cell_type": "code",
   "execution_count": 5,
   "id": "924cf881",
   "metadata": {},
   "outputs": [
    {
     "data": {
      "text/plain": [
       "3.3333333333333335"
      ]
     },
     "execution_count": 5,
     "metadata": {},
     "output_type": "execute_result"
    }
   ],
   "source": [
    "200/60"
   ]
  },
  {
   "cell_type": "markdown",
   "id": "de240588",
   "metadata": {},
   "source": [
    "## Author\n",
    "Talal Imran"
   ]
  },
  {
   "cell_type": "code",
   "execution_count": null,
   "id": "b7f0b87c",
   "metadata": {},
   "outputs": [],
   "source": []
  }
 ],
 "metadata": {
  "kernelspec": {
   "display_name": "Python 3 (ipykernel)",
   "language": "python",
   "name": "python3"
  },
  "language_info": {
   "codemirror_mode": {
    "name": "ipython",
    "version": 3
   },
   "file_extension": ".py",
   "mimetype": "text/x-python",
   "name": "python",
   "nbconvert_exporter": "python",
   "pygments_lexer": "ipython3",
   "version": "3.10.9"
  }
 },
 "nbformat": 4,
 "nbformat_minor": 5
}
